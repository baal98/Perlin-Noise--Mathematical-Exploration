{
 "cells": [
  {
   "attachments": {},
   "cell_type": "markdown",
   "metadata": {},
   "source": [
    "# **`Terrain Demo Project with Perlin Noise`**"
   ]
  },
  {
   "attachments": {},
   "cell_type": "markdown",
   "metadata": {},
   "source": [
    "<a id=\"table_of_content\"></a>\n",
    "<a href=\"../PearlNoiseProject.ipynb\">Back To Main</a>\n",
    "### Table of Contents\n",
    "1. <a href=\"#introduction\">Introduction</a>\n",
    "2. <a href=\"#implementation\">Implementation</a>\n",
    "    - <a href=\"#perlin_function\">Perlin Noise Function</a>\n",
    "    - <a href=\"#terrain_generation\">Generating Terrain</a>\n",
    "    - <a href=\"#terrain_visualization\">Visualizing Terrain</a>\n",
    "    - <a href=\"#define_water_and_flat\">Define Water and Flat</a>\n",
    "    - <a href=\"#define_visualize_slope\">Define Visualize slope</a>\n",
    "    - <a href=\"#plot_height_distribution\">Define Plot height distribution</a>\n",
    "    - <a href=\"#visualize_water_flat_areas\">Define Visualize water flat areas</a>\n",
    "    - <a href=\"#visualize_water_area\">Define Visualize water area</a>\n",
    "    - <a href=\"#visualize_flat_areas\">Define Visualize flat areas</a>\n",
    "    - <a href=\"#variables_interactive_visualization\">Define the Variables for interactive visualization</a>\n",
    "    - <a href=\"#interactive_visualization\">Define the Interactive visualization</a>\n",
    "    - <a href=\"#visualization_layouts\">Define the Visualization Layouts</a>\n",
    "3. <a href=\"#analysis\">Analysis</a>\n",
    "4. <a href=\"#conclusions\">Conclusion</a>"
   ]
  },
  {
   "attachments": {},
   "cell_type": "markdown",
   "metadata": {},
   "source": [
    "### Dependencies\n",
    "\n",
    "First, let's import the required libraries for this project."
   ]
  },
  {
   "cell_type": "code",
   "execution_count": 1,
   "metadata": {},
   "outputs": [],
   "source": [
    "import numpy as np\n",
    "from noise import snoise2, snoise3\n",
    "import matplotlib.pyplot as plt\n",
    "import pandas as pd\n",
    "from matplotlib.colors import to_rgba\n",
    "from mpl_toolkits.mplot3d import Axes3D\n",
    "import ipywidgets as widgets\n",
    "from ipywidgets import interact\n",
    "from matplotlib.colors import ListedColormap\n",
    "from IPython.display import clear_output, display, HTML"
   ]
  },
  {
   "attachments": {},
   "cell_type": "markdown",
   "metadata": {},
   "source": [
    "<h2 id=\"introduction\">Introduction</h2>\n",
    "\n",
    "<a href=\"#table_of_content\">Table of content</a>\n",
    "\n",
    "In this Demo, we will implement Perlin Noise to generate and visualize terrain using Python and various libraries.\n",
    "\n",
    "---"
   ]
  },
  {
   "attachments": {},
   "cell_type": "markdown",
   "metadata": {},
   "source": [
    "<h2 id=\"implementation\">Implementation</h2>\n",
    "\n",
    "<a href=\"#table_of_content\">Table of content</a>\n",
    "\n",
    "In this demo, we will implement Perlin Noise to generate and visualize 3D terrain. We will first define several functions to generate and visualize the terrain. Finally, we will create an interactive interface to explore the different parameters of the terrain generation."
   ]
  },
  {
   "attachments": {},
   "cell_type": "markdown",
   "metadata": {},
   "source": [
    "<a id=\"perlin_function\"></a>\n",
    "### Perlin Noise Function\n",
    "<a href=\"#table_of_content\">Table of content</a>\n",
    "\n",
    "We will now define the Perlin Noise function to generate terrain. This function will take several parameters, including the size of the terrain, the scale of the noise, the number of octaves, and the persistence and lacunarity values. It will return a 2D array representing the terrain.\n"
   ]
  },
  {
   "cell_type": "code",
   "execution_count": 2,
   "metadata": {},
   "outputs": [],
   "source": [
    "def generate_perlin_noise_3d(width, height, depth, scale, height_scale):\n",
    "    noise = np.zeros((width, height, depth))\n",
    "    for x in range(width):\n",
    "        for y in range(height):\n",
    "            for z in range(depth):\n",
    "                noise[x, y, z] = snoise3(x * scale, y * scale, z * scale) * height_scale\n",
    "    return noise"
   ]
  },
  {
   "attachments": {},
   "cell_type": "markdown",
   "metadata": {},
   "source": [
    "<a id=\"terrain_generation\"></a>\n",
    "### Generating Terrain\n",
    "<a href=\"#table_of_content\">Table of content</a>\n",
    "\n",
    "Now that we have the Perlin Noise function, we can generate the terrain. We will use the function to create a 2D array of noise values, which will represent the terrain's heightmap.\n",
    "\n",
    "**create_custom_cmap(water_level, terrain_colormap)**: This function creates a custom colormap, where areas that are at or below a certain elevation (defined by `water_level`) are colored in blue (like water), and the rest of the areas use the colormap defined by `terrain_colormap`. The following code demonstrates how to use the Perlin Noise function to generate terrain.\n"
   ]
  },
  {
   "cell_type": "code",
   "execution_count": 3,
   "metadata": {},
   "outputs": [],
   "source": [
    "def create_custom_cmap(water_level, terrain_colormap):\n",
    "    cmap = plt.get_cmap(terrain_colormap)\n",
    "    colors = cmap(np.arange(cmap.N))\n",
    "    water_index = int((water_level + 1) / 2 * cmap.N)\n",
    "    colors[:water_index, :] = np.array([0, 0, 1, 1])  # Задаване на син цвят за водата\n",
    "    return ListedColormap(colors)\n"
   ]
  },
  {
   "attachments": {},
   "cell_type": "markdown",
   "metadata": {},
   "source": [
    "<a id=\"terrain_visualization\"></a>\n",
    "### Visualizing Terrain\n",
    "<a href=\"#table_of_content\">Table of content</a>\n",
    "\n",
    "We will now create a function to visualize the generated terrain using matplotlib. This function will take the terrain array and display it as a 2D plot. It will also allow for customization of the colormap and other visual properties.\n",
    "\n",
    "**visualize_terrain_with_clouds(noise_3d, water_level, clouds, cloud_threshold, scale, elev, azim, cloud_color, terrain_colormap)**: This function creates a 3D visualization of a terrain represented by a 3D array of Perlin noise (`noise_3d`). The `water_level` parameter defines the cutoff for the terrain to be colored as water. The `clouds` parameter is a 2D array representing the presence and density of clouds. Clouds are displayed where the cloud density exceeds a certain threshold (`cloud_threshold`). The `scale`, `elev`, and `azim` parameters define the scale and viewing angle of the 3D plot. The `cloud_color` parameter is the color of the clouds, and `terrain_colormap` is the colormap of the terrain."
   ]
  },
  {
   "cell_type": "code",
   "execution_count": 4,
   "metadata": {},
   "outputs": [],
   "source": [
    "def visualize_terrain_with_clouds(noise_3d, water_level, clouds, cloud_threshold, scale, elev, azim, cloud_color, terrain_colormap):\n",
    "    fig = plt.figure(figsize=(12, 12))\n",
    "    ax = fig.add_subplot(111, projection='3d')\n",
    "    X, Y = np.meshgrid(range(noise_3d.shape[0]), range(noise_3d.shape[1]), indexing='ij')\n",
    "    Z = np.mean(noise_3d, axis=2)\n",
    "    custom_cmap = create_custom_cmap(water_level, terrain_colormap)\n",
    "    ax.plot_surface(X, Y, Z, cmap=custom_cmap)\n",
    "        \n",
    "    cloud_mask = clouds > cloud_threshold\n",
    "    cloud_x, cloud_y = np.where(cloud_mask)\n",
    "    cloud_z = (Z.max() + 5) * (1 + cloud_x * 0)\n",
    "    cloud_colors = np.zeros((cloud_x.size, 4))\n",
    "    cloud_colors[:, :4] = to_rgba(cloud_color)\n",
    "    cloud_colors[:, 3] = (clouds[cloud_mask] - cloud_threshold) / (1 - cloud_threshold)\n",
    "    ax.scatter(cloud_x, cloud_y, cloud_z, c=cloud_colors, s=10)\n",
    "    \n",
    "    ax.view_init(elev=elev, azim=azim)\n",
    "    \n",
    "    plt.show()\n"
   ]
  },
  {
   "attachments": {},
   "cell_type": "markdown",
   "metadata": {},
   "source": [
    "<a id=\"define_water_and_flat\"></a>\n",
    "### Define the calculate_water_and_flat_areas function\n",
    "<a href=\"#table_of_content\">Table of content</a>\n",
    "\n",
    "**calculate_water_and_flat_areas(heights, water_level, flatness_threshold)**: This function calculates the percentage of a terrain that is covered by water and that is flat. The `heights` parameter is a 2D array representing the terrain's heights. Areas below the `water_level` are considered water. Areas with a slope less than `flatness_threshold` are considered flat."
   ]
  },
  {
   "cell_type": "code",
   "execution_count": 5,
   "metadata": {},
   "outputs": [],
   "source": [
    "def calculate_water_and_flat_areas(heights, water_level, flatness_threshold):\n",
    "    water_percentage = (np.sum(heights <= water_level) / heights.size) * 100\n",
    "    \n",
    "    dy, dx = np.gradient(heights)\n",
    "    slope = np.sqrt(dy**2 + dx**2)\n",
    "    flat_mask = slope < flatness_threshold\n",
    "    flat_percentage = (np.sum(flat_mask) / heights.size) * 100\n",
    "    \n",
    "    return water_percentage, flat_percentage"
   ]
  },
  {
   "attachments": {},
   "cell_type": "markdown",
   "metadata": {},
   "source": [
    "<a name=\"define_water_and_flat\"></a>\n",
    "### Define the generate_clouds function\n",
    "<a href=\"#table_of_content\">Table of content</a>\n",
    "\n",
    "**generate_clouds(width, height, scale)**: This function generates a 2D array of cloud densities using Perlin noise. The `width` and `height` parameters define the size of the output array, and `scale` defines the frequency of the Perlin noise."
   ]
  },
  {
   "cell_type": "code",
   "execution_count": 6,
   "metadata": {},
   "outputs": [],
   "source": [
    "def generate_clouds(width, height, scale):\n",
    "    clouds = np.zeros((width, height))\n",
    "    for x in range(width):\n",
    "        for y in range(height):\n",
    "            clouds[x, y] = snoise3(x * scale, y * scale, 0)\n",
    "            \n",
    "    return clouds"
   ]
  },
  {
   "attachments": {},
   "cell_type": "markdown",
   "metadata": {},
   "source": [
    "<a id=\"define_visualize_slope\"></a>\n",
    "### Define the visualize_slope function\n",
    "<a href=\"#table_of_content\">Table of content</a>\n",
    "\n",
    "**visualize_slope(heights, cmap)**: This function visualizes the slope of a terrain. The `heights` parameter is a 2D array representing the terrain's heights, and `cmap` is the colormap for the visualization."
   ]
  },
  {
   "cell_type": "code",
   "execution_count": 7,
   "metadata": {},
   "outputs": [],
   "source": [
    "def visualize_slope(heights, cmap):\n",
    "    dy, dx = np.gradient(heights)\n",
    "    slope = np.sqrt(dy**2 + dx**2)\n",
    "    fig, ax = plt.subplots()\n",
    "    im = ax.imshow(slope, cmap=cmap, origin='lower')\n",
    "    fig.colorbar(im, ax=ax, label='Slope')\n",
    "    plt.show()\n"
   ]
  },
  {
   "attachments": {},
   "cell_type": "markdown",
   "metadata": {},
   "source": [
    "<a id=\"plot_height_distribution\"></a>\n",
    "### Define the plot_height_distribution function\n",
    "<a href=\"#table_of_content\">Table of content</a>\n",
    "\n",
    "**plot_height_distribution(heights)**: This function creates a histogram of the heights of a terrain, effectively showing the height distribution. The `heights` parameter is a 2D array representing the terrain's heights."
   ]
  },
  {
   "cell_type": "code",
   "execution_count": 8,
   "metadata": {},
   "outputs": [],
   "source": [
    "def plot_height_distribution(heights):\n",
    "    plt.hist(heights.flatten(), bins=50, density=True, alpha=0.75)\n",
    "    plt.xlabel('Height')\n",
    "    plt.ylabel('Density')\n",
    "    plt.show()"
   ]
  },
  {
   "attachments": {},
   "cell_type": "markdown",
   "metadata": {},
   "source": [
    "<a id=\"visualize_water_flat_areas\"></a>\n",
    "### Define the visualize_water_flat_areas function\n",
    "<a href=\"#table_of_content\">Table of content</a>\n",
    "\n",
    "**visualize_water_flat_areas(heights, water_level, flatness_threshold)**: This function visualizes water and flat areas in a terrain. The `heights` parameter is a 2D array representing the terrain's heights. Areas below `water_level` are considered water, and areas with a slope less than `flatness_threshold` are considered flat."
   ]
  },
  {
   "cell_type": "code",
   "execution_count": 9,
   "metadata": {},
   "outputs": [],
   "source": [
    "def visualize_water_flat_areas(heights, water_level, flatness_threshold):\n",
    "    water_mask = heights <= water_level\n",
    "    \n",
    "    dy, dx = np.gradient(heights)\n",
    "    slope = np.sqrt(dy**2 + dx**2)\n",
    "    flat_mask = slope < flatness_threshold\n",
    "    \n",
    "    fig, (ax1, ax2) = plt.subplots(1, 2, figsize=(12, 6))\n",
    "    \n",
    "    ax1.imshow(water_mask, cmap='Blues_r', origin='lower')\n",
    "    ax1.set_title('Water Areas')\n",
    "    \n",
    "    ax2.imshow(flat_mask, cmap='Greens_r', origin='lower')\n",
    "    ax2.set_title('Flat Areas')\n",
    "    \n",
    "    plt.show()"
   ]
  },
  {
   "attachments": {},
   "cell_type": "markdown",
   "metadata": {},
   "source": [
    "<a id=\"visualize_water_area\"></a>\n",
    "### Define the visualize_water_area function\n",
    "<a href=\"#table_of_content\">Table of content</a>\n",
    "\n",
    "**visualize_water_area(heights, water_level)**: This function visualizes water areas in a terrain. The `heights` parameter is a 2D array representing the terrain's heights. Areas below `water_level` are considered water."
   ]
  },
  {
   "cell_type": "code",
   "execution_count": 10,
   "metadata": {},
   "outputs": [],
   "source": [
    "def visualize_water_area(heights, water_level):\n",
    "    water_mask = heights <= water_level\n",
    "    \n",
    "    fig, ax = plt.subplots(figsize=(6, 6))\n",
    "    \n",
    "    from matplotlib.colors import ListedColormap\n",
    "    colors = [\"sienna\", \"blue\"]\n",
    "    custom_cmap = ListedColormap(colors)\n",
    "    \n",
    "    ax.imshow(water_mask, cmap=custom_cmap, origin='lower')\n",
    "    ax.set_title('Water Area')\n",
    "    \n",
    "    plt.show()"
   ]
  },
  {
   "attachments": {},
   "cell_type": "markdown",
   "metadata": {},
   "source": [
    "<a id=\"visualize_flat_areas\"></a>\n",
    "### Define the visualize_flat_areas function\n",
    "<a href=\"#table_of_content\">Table of content</a>\n",
    "\n",
    "**visualize_flat_areas(heights, flatness_threshold)**: This function visualizes flat areas in a terrain. The `heights` parameter is a 2D array representing the terrain's heights. Areas with a slope less than `flatness_threshold` are considered flat."
   ]
  },
  {
   "cell_type": "code",
   "execution_count": 11,
   "metadata": {},
   "outputs": [],
   "source": [
    "def visualize_flat_areas(heights, flatness_threshold):\n",
    "    dy, dx = np.gradient(heights)\n",
    "    slope = np.sqrt(dy**2 + dx**2)\n",
    "    flat_mask = slope < flatness_threshold\n",
    "    \n",
    "    fig, ax = plt.subplots(figsize=(6, 6))\n",
    "    \n",
    "    ax.imshow(flat_mask, cmap='Greens_r', origin='lower')\n",
    "    ax.set_title('Flat Areas')\n",
    "    \n",
    "    plt.show()"
   ]
  },
  {
   "attachments": {},
   "cell_type": "markdown",
   "metadata": {},
   "source": [
    "<a id=\"variables_interactive_visualization\"></a>\n",
    "### Defining the variables for interactive_visualization\n",
    "<a href=\"#table_of_content\">Table of content</a>"
   ]
  },
  {
   "cell_type": "code",
   "execution_count": 12,
   "metadata": {},
   "outputs": [],
   "source": [
    "slope_output = widgets.Output()\n",
    "height_distribution_output = widgets.Output()\n",
    "water_area_output = widgets.Output()\n",
    "flat_areas_output = widgets.Output()"
   ]
  },
  {
   "attachments": {},
   "cell_type": "markdown",
   "metadata": {},
   "source": [
    "<a id=\"interactive_visualization\"></a>\n",
    "### Define the interactive_visualization function\n",
    "<a href=\"#table_of_content\">Table of content</a>\n",
    "\n",
    "The provided code defines an interactive 3D visualization of a generated terrain, using the concept of Perlin noise. The terrain can be customized by adjusting various parameters such as the size of the terrain (width, height, depth), scale, water level, flatness threshold, cloud parameters, viewpoint parameters, cloud color, height scale, and color map of the terrain.\n",
    "\n",
    "The final application is composed of several parts, including a main 3D visualization of the terrain with clouds, and smaller visualizations of the terrain's slope, height distribution, water areas, and flat areas. Let's dive into the details:\n",
    "\n",
    "**Interactive Visualization Function**: This function (`interactive_visualization`) performs the following tasks:\n",
    "   - It first generates a 3D Perlin noise which simulates a terrain and creates a cloud cover.\n",
    "   - It visualizes the 3D terrain with the clouds using the function `visualize_terrain_with_clouds`.\n",
    "   - Then, it calculates the average height of the terrain and gets the terrain's color map.\n",
    "   - It also performs visualizations of slope, height distribution, water area, and flat areas, each outputting to a dedicated widget."
   ]
  },
  {
   "cell_type": "code",
   "execution_count": 13,
   "metadata": {},
   "outputs": [],
   "source": [
    "def interactive_visualization(width, height, depth, scale, water_level, flatness_threshold, cloud_scale, cloud_threshold, elev, azim, cloud_color, height_scale, terrain_colormap):\n",
    "    noise_3d = generate_perlin_noise_3d(width, height, depth, scale, height_scale)\n",
    "    clouds = generate_clouds(width, height, cloud_scale)\n",
    "    visualize_terrain_with_clouds(noise_3d, water_level, clouds, cloud_threshold, scale, elev, azim, cloud_color, terrain_colormap)\n",
    "    \n",
    "    heights = np.mean(noise_3d, axis=2)\n",
    "    cmap = plt.get_cmap(terrain_colormap)\n",
    "\n",
    "    with slope_output:\n",
    "        clear_output(wait=True)\n",
    "        visualize_slope(heights, cmap)\n",
    "\n",
    "    with height_distribution_output:\n",
    "        clear_output(wait=True)\n",
    "        plot_height_distribution(heights)\n",
    "\n",
    "    with water_area_output:\n",
    "        clear_output(wait=True)\n",
    "        visualize_water_area(heights, water_level)\n",
    "\n",
    "    with flat_areas_output:\n",
    "        clear_output(wait=True)\n",
    "        visualize_flat_areas(heights, flatness_threshold)    \n"
   ]
  },
  {
   "attachments": {},
   "cell_type": "markdown",
   "metadata": {},
   "source": [
    "<a id=\"visualization_layouts\"></a>\n",
    "### Visualize the 3D terrain\n",
    "<a href=\"#table_of_content\">Table of content</a>\n",
    "\n",
    "**Widget Definitions**: This part of the code is defining interactive widgets for user inputs. Widgets are provided for adjusting the terrain's size, scale, water level, flatness threshold, cloud scale, cloud threshold, viewpoint elevation and azimuth, cloud color, height scale, and the color map of the terrain.\n",
    "\n",
    "**Interactive Output Definition**: This part of the code (`widgets.interactive_output`) connects the defined widgets to the interactive visualization function. As a result, whenever a widget's value is changed, the visualization function is called with the new values, updating the visualization.\n",
    "\n",
    "**Visualization Layouts**: This part of the code structures the final layout of the application. The `AppLayout` widget is used to arrange the main 3D visualization and the smaller visualizations in a specific layout. The layout includes the main 3D visualization in the center, and the smaller visualizations are displayed to the right of it. The controls for adjusting the parameters are positioned in the left sidebar."
   ]
  },
  {
   "cell_type": "code",
   "execution_count": 14,
   "metadata": {},
   "outputs": [
    {
     "data": {
      "application/vnd.jupyter.widget-view+json": {
       "model_id": "9f48c85d99884cb28507881dc71812d2",
       "version_major": 2,
       "version_minor": 0
      },
      "text/plain": [
       "HTML(value='<h1>Interactive 3D Visualization</h1>')"
      ]
     },
     "metadata": {},
     "output_type": "display_data"
    },
    {
     "data": {
      "application/vnd.jupyter.widget-view+json": {
       "model_id": "82c51d387edc458abcd69ebab665f91f",
       "version_major": 2,
       "version_minor": 0
      },
      "text/plain": [
       "AppLayout(children=(VBox(children=(IntSlider(value=100, description='Width:', layout=Layout(width='300px'), ma…"
      ]
     },
     "metadata": {},
     "output_type": "display_data"
    }
   ],
   "source": [
    "cloud_color_picker = widgets.ColorPicker(\n",
    "    concise=False,\n",
    "    description='Cloud color:',\n",
    "    value='blue',\n",
    "    disabled=False\n",
    ")\n",
    "\n",
    "width_slider = widgets.IntSlider(value=100, min=10, max=500, step=10, description='Width:')\n",
    "height_slider = widgets.IntSlider(value=100, min=10, max=500, step=10, description='Height:')\n",
    "depth_slider = widgets.IntSlider(value=100, min=10, max=500, step=10, description='Depth:')\n",
    "scale_slider = widgets.FloatSlider(value=0.03, min=-0.00, max=0.1, step=0.0005, description='Scale:')\n",
    "water_level_slider = widgets.FloatSlider(value=-0.50, min=-1, max=1, step=0.01, description='Water level:')\n",
    "flatness_threshold_slider = widgets.FloatSlider(value=0.01, min=-0.01, max=0.5, step=0.01, description='Flatness:')\n",
    "cloud_scale_slider = widgets.FloatSlider(value=0.03, min=0.00, max=0.1, step=0.01, description='Cloud scale:')\n",
    "cloud_threshold_slider = widgets.FloatSlider(value=0.0, min=-1.0, max=1.0, step=0.01, description='Cloud threshold:')\n",
    "elev_slider = widgets.FloatSlider(value=30, min=-90, max=90, step=1, description='Elevation:')\n",
    "azim_slider = widgets.FloatSlider(value=-135, min=-180, max=180, step=1, description='Azimuth:')\n",
    "cloud_color_picker = widgets.ColorPicker(value='lightblue', description='Cloud color:')\n",
    "height_scale_slider = widgets.FloatSlider(value=12, min=1, max=50, step=1, description='Height Scale:')\n",
    "terrain_colormap_dropdown = widgets.Dropdown(\n",
    "    options=plt.colormaps(),\n",
    "    value=\"terrain\",\n",
    "    description=\"Terrain map:\"\n",
    ")\n",
    "\n",
    "out = widgets.interactive_output(\n",
    "    interactive_visualization, \n",
    "    {\n",
    "        'width': width_slider, \n",
    "        'height': height_slider, \n",
    "        'depth': depth_slider, \n",
    "        'scale': scale_slider, \n",
    "        'water_level': water_level_slider, \n",
    "        'flatness_threshold': flatness_threshold_slider, \n",
    "        'cloud_scale': cloud_scale_slider, \n",
    "        'cloud_threshold': cloud_threshold_slider, \n",
    "        'elev': elev_slider, \n",
    "        'azim': azim_slider, \n",
    "        'cloud_color': cloud_color_picker,\n",
    "        'height_scale': height_scale_slider,\n",
    "        'terrain_colormap': terrain_colormap_dropdown\n",
    "    }\n",
    ")\n",
    "\n",
    "controls = widgets.VBox(\n",
    "    [\n",
    "        width_slider,\n",
    "        height_slider,\n",
    "        depth_slider,\n",
    "        scale_slider,\n",
    "        water_level_slider,\n",
    "        flatness_threshold_slider,\n",
    "        cloud_scale_slider,\n",
    "        cloud_threshold_slider,\n",
    "        elev_slider,\n",
    "        azim_slider,\n",
    "        cloud_color_picker,\n",
    "        height_scale_slider,\n",
    "        terrain_colormap_dropdown\n",
    "    ]\n",
    ")\n",
    "\n",
    "\n",
    "for control in controls.children:\n",
    "    control.layout.width = '300px'\n",
    "\n",
    "header_html = widgets.HTML('<h1>Interactive 3D Visualization</h1>')\n",
    "display(header_html)\n",
    "\n",
    "out.layout.width = '450px'\n",
    "out.layout.height = '500px'\n",
    "other_visualization_width = '200px'\n",
    "other_visualization_height = '220px'\n",
    "slope_output.layout.width = other_visualization_width\n",
    "slope_output.layout.height = other_visualization_height\n",
    "height_distribution_output.layout.width = other_visualization_width\n",
    "height_distribution_output.layout.height = other_visualization_height\n",
    "water_area_output.layout.width = other_visualization_width\n",
    "water_area_output.layout.height = other_visualization_height\n",
    "flat_areas_output.layout.width = other_visualization_width\n",
    "flat_areas_output.layout.height = other_visualization_height\n",
    "\n",
    "app = widgets.AppLayout(\n",
    "    header=None,\n",
    "    left_sidebar=controls,\n",
    "    center=widgets.HBox([\n",
    "        widgets.VBox([out], layout=widgets.Layout(padding='0px')),\n",
    "        widgets.VBox([\n",
    "            widgets.HBox([height_distribution_output, slope_output], layout=widgets.Layout(padding='0px')),\n",
    "            widgets.HBox([water_area_output, flat_areas_output], layout=widgets.Layout(padding='0px'))\n",
    "        ], layout=widgets.Layout(padding='0px')),\n",
    "    ], layout=widgets.Layout(align_items='center', padding='0px', width='70%')),\n",
    "    right_sidebar=None,\n",
    "    footer=None,\n",
    "    layout=widgets.Layout(width='105%', align_items='center', display='flex', padding='0px')\n",
    ")\n",
    "\n",
    "display(app)"
   ]
  },
  {
   "attachments": {},
   "cell_type": "markdown",
   "metadata": {},
   "source": [
    "<a id=\"analysis\"></a>\n",
    "\n",
    "## Analysis\n",
    "\n",
    "<a href=\"#table_of_content\">Table of content</a>\n",
    "\n",
    "<a href=\"../PearlNoiseProject.ipynb\">Back To Main</a>\n",
    "\n",
    "In this section, we will analyze the generated terrain and discuss the impact of different parameters on the final output. The Perlin Noise function allows for the adjustment of several parameters, including the number of octaves, persistence, and lacunarity. Changing these values can have a significant impact on the appearance and structure of the generated terrain. By experimenting with different values, we can create a wide range of terrains suitable for various applications.\n",
    "\n",
    "The code above defines an application for generating and visualizing 3D terrains. It uses Perlin noise to create realistic heightmaps, which are then plotted. Several additional visualizations, such as slope and height distribution, are provided alongside the main 3D view.\n",
    "\n",
    "**Application Analysis**\n",
    "\n",
    "This application demonstrates a successful integration of data generation and interactive visualization.\n",
    "\n",
    "1. **Realistic Terrain Generation**: Perlin noise is a gradient noise developed by Ken Perlin, often used in procedural texture and terrain generation for its organic and smooth appearance. This application uses a 3D implementation of Perlin noise, which allows for an added depth dimension, enhancing the terrain's realism.\n",
    "\n",
    "2. **Interactive Visualization**: The application includes an interactive 3D visualization of the generated terrain, complete with a customizable water level and cloud cover. This provides an intuitive and engaging way to explore and understand the terrain.\n",
    "\n",
    "3. **Additional Visualizations**: Besides the main 3D plot, the application includes several other visualizations providing different perspectives on the terrain's properties. These include plots of slope, height distribution, water areas, and flat areas.\n",
    "\n",
    "4. **User-Friendly Interface**: The interactive widgets enables to modify various parameters affecting the terrain and its visualization easily. These widgets include sliders for numerical inputs, color pickers, and dropdown menus.\n",
    "\n",
    "**Conclusions**\n",
    "\n",
    "In conclusion, this application is a powerful tool for generating and visualizing 3D terrains. It is not only technically robust but also user-friendly and visually engaging. Potential improvements could include adding more parameters for the user to modify or incorporating other types of noise generation.\n",
    "\n",
    "Possible applications of this tool could be in geography and geology education, video game design, or any area where realistic terrain visualization could be beneficial. It serves as an excellent example of how Python and Jupyter's interactive capabilities can be leveraged to create effective and interactive scientific visualizations.\n"
   ]
  },
  {
   "attachments": {},
   "cell_type": "markdown",
   "metadata": {},
   "source": [
    "<a id=\"conclusions\"></a>\n",
    "\n",
    "## Conclusions\n",
    "\n",
    "<a href=\"#table_of_content\">Table of content</a>\n",
    "\n",
    "<a href=\"../PearlNoiseProject.ipynb\">Back To Main</a>\n",
    "\n",
    "In this demo, we created and analyzed the generated terrain and discuss the impact of different parameters on the final output. The Perlin Noise function allows for the adjustment of several parameters, including the number of octaves, persistence, and lacunarity. Changing these values can have a significant impact on the appearance and structure of the generated terrain. By experimenting with different values, we can create a wide range of terrains suitable for various applications.\n",
    "\n",
    "In conclusion, this application is a tool for generating and visualizing 3D terrains. It is not only technically robust but also user-friendly and visually engaging. Potential improvements could include adding more parameters to modify or incorporating other types of noise generation.\n",
    "\n",
    "Possible applications of this tool could be in geography and geology education, video game design, or any area where realistic terrain visualization could be beneficial. It serves as an excellent example how to create effective and interactive scientific visualizations.\n"
   ]
  }
 ],
 "metadata": {
  "kernelspec": {
   "display_name": "Python 3",
   "language": "python",
   "name": "python3"
  },
  "language_info": {
   "codemirror_mode": {
    "name": "ipython",
    "version": 3
   },
   "file_extension": ".py",
   "mimetype": "text/x-python",
   "name": "python",
   "nbconvert_exporter": "python",
   "pygments_lexer": "ipython3",
   "version": "3.10.7"
  },
  "orig_nbformat": 4
 },
 "nbformat": 4,
 "nbformat_minor": 2
}
