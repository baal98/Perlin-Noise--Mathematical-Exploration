{
 "cells": [
  {
   "attachments": {},
   "cell_type": "markdown",
   "metadata": {},
   "source": [
    "<a id=\"top\"></a>\n",
    "\n",
    "In the next Demo we will show how to\n",
    "<h3 id=\"pearl_noise_texture\">Create the Perlin Noise texture</h3>\n",
    "\n",
    "<a href=\"../PearlNoiseProject.ipynb\">Back To Main</a>"
   ]
  },
  {
   "cell_type": "code",
   "execution_count": 1,
   "metadata": {},
   "outputs": [],
   "source": [
    "import numpy as np\n",
    "from noise import snoise2\n",
    "import matplotlib.pyplot as plt\n",
    "import ipywidgets as widgets\n",
    "from ipywidgets import interact"
   ]
  },
  {
   "attachments": {},
   "cell_type": "markdown",
   "metadata": {},
   "source": [
    "Here we will show an implementation of Perlin Noise used as a texture for a 3D object used with code:"
   ]
  },
  {
   "cell_type": "code",
   "execution_count": 2,
   "metadata": {},
   "outputs": [
    {
     "data": {
      "application/vnd.jupyter.widget-view+json": {
       "model_id": "daa2ee3e6bbe44fcb7634edea57c043f",
       "version_major": 2,
       "version_minor": 0
      },
      "text/plain": [
       "interactive(children=(IntSlider(value=200, description='Width:', max=400, min=50, step=10), IntSlider(value=20…"
      ]
     },
     "metadata": {},
     "output_type": "display_data"
    },
    {
     "data": {
      "text/plain": [
       "<function __main__.visualize_perlin_noise2D(width, height, resolution, colormap, saturation, contrast)>"
      ]
     },
     "execution_count": 2,
     "metadata": {},
     "output_type": "execute_result"
    }
   ],
   "source": [
    "def generate_noise(width, height, resolution):\n",
    "    x_coords = np.linspace(0, resolution, width)\n",
    "    y_coords = np.linspace(0, resolution, height)\n",
    "    return np.array([[snoise2(x, y) for x in x_coords] for y in y_coords])\n",
    "\n",
    "def visualize_perlin_noise2D(width, height, resolution, colormap, saturation, contrast):\n",
    "    noise_values = generate_noise(width, height, resolution)\n",
    "    plt.imshow(noise_values * contrast, cmap=colormap, origin=\"lower\", vmin=-saturation, vmax=saturation)\n",
    "    plt.colorbar()\n",
    "    plt.title(\"2D Perlin Noise\")\n",
    "    plt.xlabel(\"X\")\n",
    "    plt.ylabel(\"Y\")\n",
    "    plt.show()\n",
    "\n",
    "interact(visualize_perlin_noise2D,\n",
    "         width=widgets.IntSlider(min=50, max=400, step=10, value=200, description=\"Width:\"),\n",
    "         height=widgets.IntSlider(min=50, max=400, step=10, value=200, description=\"Height:\"),\n",
    "         resolution=widgets.FloatSlider(min=1, max=30, step=0.1, value=15, description=\"Resolution:\"),\n",
    "         colormap=widgets.Dropdown(options=plt.colormaps(), value=\"bone\", description=\"Colormap:\"),\n",
    "         saturation=widgets.FloatSlider(min=0, max=1, step=0.1, value=1, description=\"Saturation:\"),\n",
    "         contrast=widgets.FloatSlider(min=0.5, max=2, step=0.1, value=1, description=\"Contrast:\"))\n"
   ]
  },
  {
   "attachments": {},
   "cell_type": "markdown",
   "metadata": {},
   "source": [
    "<a href=\"../PearlNoiseProject.ipynb\">Back To Main</a>\n",
    "\n",
    "<a href=\"#top\">Top of Document</a>\n",
    "\n",
    "The function `visualize_perlin_noise2D` generates and visualizes 2D Perlin Noise with adjustable parameters. We can interactively change the width, height, resolution, colormap, saturation, and contrast of the resulting noise image. This function can be useful for a variety of applications, such as procedural texture generation, terrain modeling, and creating realistic patterns in computer graphics or simulations.\n",
    "\n",
    "Here's a detailed analysis of the function and its components:\n",
    "\n",
    "1. `width` and `height`: These parameters control the dimensions of the resulting noise image. By adjusting the width and height, we can create noise images of different sizes, which can be useful for generating textures or patterns with varying levels of detail.\n",
    "\n",
    "2. `resolution`: This parameter controls the spatial frequency of the Perlin Noise. Lower values will result in larger, more distinct features in the noise, while higher values will create finer, more detailed patterns. Adjusting the resolution allows us to create noise patterns with varying levels of detail and complexity, which can be useful for modeling different types of natural phenomena, such as terrain or clouds.\n",
    "\n",
    "3. `colormap`: This parameter allows the user to choose a color map for visualizing the noise. By changing the colormap, we can create noise patterns with different color schemes, which can be useful for generating textures or patterns with specific color themes or aesthetics.\n",
    "\n",
    "4. `saturation`: This parameter controls the range of values in the noise image. By adjusting the saturation, we can create noise patterns with different levels of intensity or contrast. This can be useful for creating patterns with different visual characteristics, such as subtle variations or high-contrast patterns.\n",
    "\n",
    "5. `contrast`: This parameter allows the user to control the contrast of the noise image. By adjusting the contrast, we can create noise patterns with different levels of contrast, which can be useful for generating textures or patterns with varying levels of detail or visual impact.\n",
    "\n",
    "The `visualize_perlin_noise2D` function can be used in a variety of applications, such as:\n",
    "\n",
    "- Procedural texture generation: By creating noise patterns with different parameters, we can generate a wide range of textures for use in computer graphics, game design, or digital art. These textures can be used to create realistic materials, such as rocks, wood, or clouds, or to add detail and variation to modeled objects.\n",
    "\n",
    "- Terrain modeling: Perlin Noise can be used to create realistic terrain heightmaps for use in computer simulations, games, or virtual environments. By adjusting the parameters of the noise function, we can create terrain with varying levels of detail, complexity, and realism.\n",
    "\n",
    "- Data visualization: Perlin Noise can be used as a basis for creating complex patterns and visualizations of data. By adjusting the parameters of the noise function, we can create unique and interesting visual representations of data, such as heatmaps, contour plots, or other types of graphical displays.\n",
    "\n",
    "- Art and design: The ability to generate and control Perlin Noise patterns can be useful for artists and designers looking to create unique and interesting patterns, textures, or backgrounds for use in digital art, graphic design, or other creative projects.\n",
    "\n",
    "<a href=\"../PearlNoiseProject.ipynb\">Back To Main</a>\n",
    "\n",
    "<a href=\"#top\">Top of Document</a>"
   ]
  }
 ],
 "metadata": {
  "kernelspec": {
   "display_name": "Python 3",
   "language": "python",
   "name": "python3"
  },
  "language_info": {
   "codemirror_mode": {
    "name": "ipython",
    "version": 3
   },
   "file_extension": ".py",
   "mimetype": "text/x-python",
   "name": "python",
   "nbconvert_exporter": "python",
   "pygments_lexer": "ipython3",
   "version": "3.10.7"
  },
  "orig_nbformat": 4
 },
 "nbformat": 4,
 "nbformat_minor": 2
}
